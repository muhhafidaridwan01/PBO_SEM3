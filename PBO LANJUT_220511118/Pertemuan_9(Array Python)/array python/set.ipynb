{
 "cells": [
  {
   "cell_type": "code",
   "execution_count": 3,
   "id": "5b372797-bde7-4fa4-ad27-69cd26e06696",
   "metadata": {},
   "outputs": [
    {
     "name": "stdout",
     "output_type": "stream",
     "text": [
      "Initial Set: {'A', 'B', 'C'}\n",
      "Updated Set: {'A', 'B', 'C', 'D'}\n"
     ]
    }
   ],
   "source": [
    "alfabert = {'A', 'B', 'C'}\n",
    "\n",
    "print('Initial Set:',alfabert)\n",
    "\n",
    "# using add() method\n",
    "alfabert.add('D')\n",
    "\n",
    "print('Updated Set:', alfabert) "
   ]
  },
  {
   "cell_type": "code",
   "execution_count": null,
   "id": "244ba6dd-656f-4e70-a947-2181344c13d6",
   "metadata": {},
   "outputs": [],
   "source": []
  }
 ],
 "metadata": {
  "kernelspec": {
   "display_name": "Python 3 (ipykernel)",
   "language": "python",
   "name": "python3"
  },
  "language_info": {
   "codemirror_mode": {
    "name": "ipython",
    "version": 3
   },
   "file_extension": ".py",
   "mimetype": "text/x-python",
   "name": "python",
   "nbconvert_exporter": "python",
   "pygments_lexer": "ipython3",
   "version": "3.9.8"
  }
 },
 "nbformat": 4,
 "nbformat_minor": 5
}
