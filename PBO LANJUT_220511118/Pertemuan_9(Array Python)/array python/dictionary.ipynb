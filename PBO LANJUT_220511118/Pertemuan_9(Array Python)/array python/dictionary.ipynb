{
 "cells": [
  {
   "cell_type": "code",
   "execution_count": 8,
   "id": "57062ad9-f3e3-40d3-93e8-575b869244f4",
   "metadata": {},
   "outputs": [
    {
     "name": "stdout",
     "output_type": "stream",
     "text": [
      "dict['Kelas']:  D\n",
      "dict['Univ']:  Universitas Muhammadiyah\n",
      "{'Nim': 220511118, 'Nama': 'Hafid', 'Kelas': 'D', 'Univ': 'Universitas Muhammadiyah'}\n"
     ]
    }
   ],
   "source": [
    "dict = {'Nim': 220511118, 'Nama': 'Hafid', 'Kelas': 'C'}\n",
    "dict['Kelas'] = 'D'; \n",
    "dict['Univ'] = \"Universitas Muhammadiyah\" \n",
    "\n",
    "print (\"dict['Kelas']: \", dict['Kelas'])\n",
    "print (\"dict['Univ']: \", dict['Univ'])\n",
    "print (dict)"
   ]
  },
  {
   "cell_type": "code",
   "execution_count": null,
   "id": "3d450886-1209-463b-887f-aa11dd3bd96e",
   "metadata": {},
   "outputs": [],
   "source": []
  }
 ],
 "metadata": {
  "kernelspec": {
   "display_name": "Python 3 (ipykernel)",
   "language": "python",
   "name": "python3"
  },
  "language_info": {
   "codemirror_mode": {
    "name": "ipython",
    "version": 3
   },
   "file_extension": ".py",
   "mimetype": "text/x-python",
   "name": "python",
   "nbconvert_exporter": "python",
   "pygments_lexer": "ipython3",
   "version": "3.9.8"
  }
 },
 "nbformat": 4,
 "nbformat_minor": 5
}
