{
 "cells": [
  {
   "cell_type": "code",
   "execution_count": 3,
   "id": "b2000552-0bd6-4381-b886-888fd0e32312",
   "metadata": {},
   "outputs": [
    {
     "name": "stdout",
     "output_type": "stream",
     "text": [
      "tif1[0]:  Hafid\n",
      "tif2[1]:  2\n"
     ]
    }
   ],
   "source": [
    "# Akses Nilai List\n",
    "tif1 = ['Hafid', 'Fikri', 'Ilham', 2003, 2004, 2005]\n",
    "tif2 = [1, 2, 3, 4, 5, 6, 7 ]\n",
    "\n",
    "print (\"tif1[0]: \", tif1[0])\n",
    "print (\"tif2[1]: \", tif2[1])"
   ]
  },
  {
   "cell_type": "code",
   "execution_count": 6,
   "id": "e07064b8-25b8-4131-8abc-e75e0a1e9ce3",
   "metadata": {},
   "outputs": [
    {
     "name": "stdout",
     "output_type": "stream",
     "text": [
      "list [0] adalah = 1\n",
      "Jadi Index 0 itu bernilai 1\n"
     ]
    }
   ],
   "source": [
    "list = [1, 2, 3, 4]\n",
    "print (\"list [0] adalah =\", list [0])\n",
    "print (\"Jadi Index 0 itu bernilai 1\")"
   ]
  },
  {
   "cell_type": "code",
   "execution_count": 10,
   "id": "202d27e5-3f11-4eaa-bc86-b85889bd1c9a",
   "metadata": {},
   "outputs": [
    {
     "name": "stdout",
     "output_type": "stream",
     "text": [
      "list terbaru adalah: Danang\n",
      "['Hafid', 'Fikri', 'Danang', 2003, 2004]\n"
     ]
    }
   ],
   "source": [
    "# Update Nilai List\n",
    "list = ['Hafid', 'Fikri', 'Ilham', 2003, 2004]\n",
    "list [2] = 'Danang'\n",
    "print (\"list terbaru adalah:\", list[2]) \n",
    "print (list)"
   ]
  },
  {
   "cell_type": "code",
   "execution_count": 11,
   "id": "e9093de8-4abd-438e-8698-3f44621085e7",
   "metadata": {},
   "outputs": [
    {
     "name": "stdout",
     "output_type": "stream",
     "text": [
      "Setelah dihapus adalah: ['Hafid', 'Fikri', 2003, 2004]\n"
     ]
    }
   ],
   "source": [
    "# Delete Nilai List\n",
    "del list[2]\n",
    "print(\"Setelah dihapus adalah:\", list)"
   ]
  },
  {
   "cell_type": "code",
   "execution_count": 12,
   "id": "b972e8fd-a5d6-4af6-860f-3c6d529606a5",
   "metadata": {},
   "outputs": [
    {
     "data": {
      "text/plain": [
       "5"
      ]
     },
     "execution_count": 12,
     "metadata": {},
     "output_type": "execute_result"
    }
   ],
   "source": [
    "list = [1, 2, 3, 4, 5]\n",
    "max(list)"
   ]
  },
  {
   "cell_type": "code",
   "execution_count": 13,
   "id": "42020909-164c-464d-a911-91ab62bed48c",
   "metadata": {},
   "outputs": [
    {
     "data": {
      "text/plain": [
       "1"
      ]
     },
     "execution_count": 13,
     "metadata": {},
     "output_type": "execute_result"
    }
   ],
   "source": [
    "min(list)"
   ]
  },
  {
   "cell_type": "code",
   "execution_count": 14,
   "id": "6c1b1075-651f-43e2-a620-d350ab11d783",
   "metadata": {},
   "outputs": [
    {
     "data": {
      "text/plain": [
       "5"
      ]
     },
     "execution_count": 14,
     "metadata": {},
     "output_type": "execute_result"
    }
   ],
   "source": [
    "len(list)\n"
   ]
  },
  {
   "cell_type": "code",
   "execution_count": 20,
   "id": "427de699-4f6c-45bb-a9fd-1486d105755c",
   "metadata": {},
   "outputs": [
    {
     "ename": "ValueError",
     "evalue": "list.remove(x): x not in list",
     "output_type": "error",
     "traceback": [
      "\u001b[1;31m------------------------------------\u001b[0m",
      "\u001b[1;31mValueError\u001b[0mTraceback (most recent call last)",
      "Cell \u001b[1;32mIn[20], line 3\u001b[0m\n\u001b[0;32m      1\u001b[0m \u001b[38;5;66;03m# Update Nilai List\u001b[39;00m\n\u001b[0;32m      2\u001b[0m \u001b[38;5;28mlist\u001b[39m \u001b[38;5;241m=\u001b[39m [\u001b[38;5;124m'\u001b[39m\u001b[38;5;124mHafid\u001b[39m\u001b[38;5;124m'\u001b[39m, \u001b[38;5;124m'\u001b[39m\u001b[38;5;124mFikri\u001b[39m\u001b[38;5;124m'\u001b[39m, \u001b[38;5;124m'\u001b[39m\u001b[38;5;124mIlham\u001b[39m\u001b[38;5;124m'\u001b[39m, \u001b[38;5;241m2003\u001b[39m, \u001b[38;5;241m2004\u001b[39m]\n\u001b[1;32m----> 3\u001b[0m \u001b[38;5;28;43mlist\u001b[39;49m\u001b[38;5;241;43m.\u001b[39;49m\u001b[43mremove\u001b[49m\u001b[43m(\u001b[49m\u001b[38;5;124;43m'\u001b[39;49m\u001b[38;5;124;43mRama\u001b[39;49m\u001b[38;5;124;43m'\u001b[39;49m\u001b[43m)\u001b[49m\n\u001b[0;32m      4\u001b[0m \u001b[38;5;28mprint\u001b[39m (\u001b[38;5;124m\"\u001b[39m\u001b[38;5;124mlist terbaru adalah:\u001b[39m\u001b[38;5;124m\"\u001b[39m, \u001b[38;5;28mlist\u001b[39m) \n\u001b[0;32m      5\u001b[0m \u001b[38;5;28mprint\u001b[39m (\u001b[38;5;28mlist\u001b[39m)\n",
      "\u001b[1;31mValueError\u001b[0m: list.remove(x): x not in list"
     ]
    }
   ],
   "source": [
    "# Update Nilai List\n",
    "list = ['Hafid', 'Fikri', 'Ilham', 2003, 2004]\n",
    "list.remove('Rama')\n",
    "print (\"list terbaru adalah:\", list) \n",
    "print (list)"
   ]
  },
  {
   "cell_type": "code",
   "execution_count": 21,
   "id": "2c5d93aa-4a2f-471b-860c-e27c54d04c0b",
   "metadata": {},
   "outputs": [
    {
     "name": "stdout",
     "output_type": "stream",
     "text": [
      "['Fikri', 'Ilham', 2003, 2004]\n"
     ]
    }
   ],
   "source": [
    "# Update Nilai List\n",
    "list = ['Hafid', 'Fikri', 'Ilham', 2003, 2004]\n",
    "list.remove('Hafid')\n",
    "print (list)"
   ]
  },
  {
   "cell_type": "code",
   "execution_count": null,
   "id": "e3020e20-f63f-42d4-b4a0-06dca6ea9ebb",
   "metadata": {},
   "outputs": [],
   "source": []
  }
 ],
 "metadata": {
  "kernelspec": {
   "display_name": "Python 3 (ipykernel)",
   "language": "python",
   "name": "python3"
  },
  "language_info": {
   "codemirror_mode": {
    "name": "ipython",
    "version": 3
   },
   "file_extension": ".py",
   "mimetype": "text/x-python",
   "name": "python",
   "nbconvert_exporter": "python",
   "pygments_lexer": "ipython3",
   "version": "3.9.8"
  }
 },
 "nbformat": 4,
 "nbformat_minor": 5
}
